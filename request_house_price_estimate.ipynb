{
 "cells": [
  {
   "cell_type": "code",
   "execution_count": 46,
   "id": "5eae15c1",
   "metadata": {},
   "outputs": [],
   "source": [
    "import requests"
   ]
  },
  {
   "cell_type": "code",
   "execution_count": 51,
   "id": "7c1a92bd",
   "metadata": {},
   "outputs": [],
   "source": [
    "# Define the input data\n",
    "data = {\n",
    "    \"longitude\": -122.25,\n",
    "    \"latitude\": 37.85,\n",
    "    \"median age of houses in the area\": 42.0,\n",
    "    \"total number of rooms of all houses in the area\": 880.0,\n",
    "    \"total number of bedrooms of all houses in the area\": 129.0,\n",
    "    \"population\": 322.0,\n",
    "    \"number of households\": 126.0,\n",
    "    \"median income\": 8.3252,\n",
    "    \"choose from <1H OCEAN, INLAND, ISLAND, NEAR BAY, NEAR OCEAN ==> please type in capital letters\": 'NEAR BAY'\n",
    "}"
   ]
  },
  {
   "cell_type": "code",
   "execution_count": 52,
   "id": "64dd649f",
   "metadata": {},
   "outputs": [],
   "source": [
    "# Define the URL of the Flask application\n",
    "url = 'http://localhost:8080/predict'"
   ]
  },
  {
   "cell_type": "code",
   "execution_count": 53,
   "id": "20b10ca1",
   "metadata": {},
   "outputs": [],
   "source": [
    "# Send a POST request to the Flask application\n",
    "response = requests.post(url, data=data)"
   ]
  },
  {
   "cell_type": "code",
   "execution_count": 54,
   "id": "aa7e4bad",
   "metadata": {},
   "outputs": [
    {
     "data": {
      "text/plain": [
       "{'error': '2',\n",
       " 'message': 'Shape of passed values is (9, 1), indices imply (9, 9)'}"
      ]
     },
     "execution_count": 54,
     "metadata": {},
     "output_type": "execute_result"
    }
   ],
   "source": [
    "response.json()"
   ]
  },
  {
   "cell_type": "code",
   "execution_count": 55,
   "id": "03d5330c",
   "metadata": {},
   "outputs": [
    {
     "name": "stdout",
     "output_type": "stream",
     "text": [
      "{'error': '2', 'message': 'Shape of passed values is (9, 1), indices imply (9, 9)'}\n"
     ]
    }
   ],
   "source": [
    "# Check the response status code\n",
    "if response.status_code == 200:\n",
    "    # Print the response content (JSON)\n",
    "    print(response.json())\n",
    "else:\n",
    "    print('Error:', response.status_code)"
   ]
  },
  {
   "cell_type": "code",
   "execution_count": null,
   "id": "6ab46f1f",
   "metadata": {},
   "outputs": [],
   "source": []
  }
 ],
 "metadata": {
  "kernelspec": {
   "display_name": "Python 3 (ipykernel)",
   "language": "python",
   "name": "python3"
  },
  "language_info": {
   "codemirror_mode": {
    "name": "ipython",
    "version": 3
   },
   "file_extension": ".py",
   "mimetype": "text/x-python",
   "name": "python",
   "nbconvert_exporter": "python",
   "pygments_lexer": "ipython3",
   "version": "3.10.9"
  }
 },
 "nbformat": 4,
 "nbformat_minor": 5
}
